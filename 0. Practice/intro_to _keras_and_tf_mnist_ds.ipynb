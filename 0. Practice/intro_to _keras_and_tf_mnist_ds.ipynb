{
 "cells": [
  {
   "cell_type": "markdown",
   "metadata": {},
   "source": [
    "Keras is a deep learning API written in Python that runs on top of TensorFlow\n",
    "\n",
    "MNIST is a large database of handwritten digits commonly used in training and testing image processing systems. The image dimensions are 28x28 numpy arrays\n"
   ]
  },
  {
   "cell_type": "markdown",
   "metadata": {},
   "source": [
    "NOTE: This Notebook is only compatible wuth Tensorflow 1.0"
   ]
  },
  {
   "cell_type": "code",
   "execution_count": 5,
   "metadata": {},
   "outputs": [
    {
     "name": "stdout",
     "output_type": "stream",
     "text": [
      "Training data: (60000, 28, 28), (60000,)\n",
      "Test data: (10000, 28, 28), (10000,)\n",
      "There are 10 classes in the dataset. They are: [0 1 2 3 4 5 6 7 8 9]\n"
     ]
    }
   ],
   "source": [
    "import numpy as np\n",
    "import matplotlib.pyplot as plt\n",
    "import tensorflow as tf\n",
    "from tensorflow import keras\n",
    "\n",
    "\n",
    "mnist = keras.datasets.mnist\n",
    "(train_images, train_labels) , (test_images,\n",
    "                                test_labels) = mnist.load_data()\n",
    "\n",
    "print(\"Training data: {}, {}\".format(train_images.shape, train_labels.shape))\n",
    "\n",
    "#For the test data\n",
    "print(\"Test data: {}, {}\".format(test_images.shape, test_labels.shape))\n",
    "\n",
    "#Number of Unique classes in the Data\n",
    "class_labels = np.unique(train_labels)\n",
    "print(\"There are {} classes in the dataset. They are: {}\".format(len(class_labels), class_labels))\n",
    "\n",
    "\n"
   ]
  },
  {
   "cell_type": "markdown",
   "metadata": {},
   "source": [
    "Peeking at the data (Visualize the Images)"
   ]
  },
  {
   "cell_type": "code",
   "execution_count": 6,
   "metadata": {},
   "outputs": [
    {
     "data": {
      "image/png": "[encoded data removed]",
      "text/plain": [
       "<Figure size 576x360 with 3 Axes>"
      ]
     },
     "metadata": {
      "needs_background": "light"
     },
     "output_type": "display_data"
    }
   ],
   "source": [
    "#Plotting some of the datapoints\n",
    "\n",
    "plt.figure(figsize=(8, 5))\n",
    "plt.subplot(1,3,1)\n",
    "plt.imshow(train_images[0])\n",
    "plt.title(\"Label: {}\".format(train_labels[0]))\n",
    "plt.subplot(1,3,2)\n",
    "plt.imshow(train_images[2500])\n",
    "plt.title(\"Label: {}\".format(train_labels[2500]))\n",
    "plt.subplot(1,3,3)\n",
    "plt.imshow(test_images[12])\n",
    "plt.show()"
   ]
  },
  {
   "cell_type": "code",
   "execution_count": 7,
   "metadata": {},
   "outputs": [],
   "source": [
    "#Scale the Data\n",
    "# As usual, we scale our dataset to range between 0 and 1. In this dataset, the pixel values\n",
    "# Dividing the data by 255 scales to the required range\n",
    "train_images = train_images / 255.0\n",
    "test_images = test_images / 255.0"
   ]
  },
  {
   "cell_type": "markdown",
   "metadata": {},
   "source": [
    "Split training data to training and validation sets"
   ]
  },
  {
   "cell_type": "code",
   "execution_count": 8,
   "metadata": {},
   "outputs": [
    {
     "name": "stdout",
     "output_type": "stream",
     "text": [
      "x_train: (50000, 28, 28)\n",
      "x_val: (10000, 28, 28)\n",
      "y_train: (50000,)\n",
      "y_val: (10000,)\n"
     ]
    }
   ],
   "source": [
    "x_train = train_images[0:50000]\n",
    "x_val = train_images[50000:]\n",
    "y_train = train_labels[0:50000]\n",
    "y_val = train_labels[50000:]\n",
    "print(\"x_train: {}\".format(x_train.shape)) # prints x_train: (50000, 28, 28)\n",
    "print(\"x_val: {}\".format(x_val.shape)) # prints x_val: (10000, 28, 28)\n",
    "print(\"y_train: {}\".format(y_train.shape)) #prints y_train: (50000,)\n",
    "print(\"y_val: {}\".format(y_val.shape)) #prints y_val: (10000,"
   ]
  },
  {
   "cell_type": "markdown",
   "metadata": {},
   "source": [
    "Reshape data from 28 * 28 array to a single array"
   ]
  },
  {
   "cell_type": "code",
   "execution_count": 9,
   "metadata": {},
   "outputs": [
    {
     "name": "stdout",
     "output_type": "stream",
     "text": [
      "x_train: (50000, 784)\n",
      "x_val: (10000, 784)\n",
      "test_images: (10000, 784)\n"
     ]
    }
   ],
   "source": [
    "new_dimension = np.prod(train_images.shape[1:])\n",
    "x_train = x_train.reshape(x_train.shape[0], new_dimension)\n",
    "x_val = x_val.reshape(x_val.shape[0], new_dimension)\n",
    "test_images = test_images.reshape(test_images.shape[0], new_dimension)\n",
    "print(\"x_train: {}\".format(x_train.shape)) #prints x_train: (50000, 784)\n",
    "print(\"x_val: {}\".format(x_val.shape)) #prints x_val: (10000, 784)\n",
    "print(\"test_images: {}\".format(test_images.shape)) #prints test_images: (10000, 784)"
   ]
  },
  {
   "cell_type": "markdown",
   "metadata": {},
   "source": [
    "Encode labels to categorical variables"
   ]
  },
  {
   "cell_type": "code",
   "execution_count": 10,
   "metadata": {},
   "outputs": [],
   "source": [
    "from tensorflow.keras.utils import to_categorical #keras.utils\n",
    "no_labels = 10\n",
    "y_train = to_categorical(y_train, no_labels)\n",
    "y_val = to_categorical(y_val, no_labels)\n",
    "y_test = to_categorical(test_labels, no_labels)"
   ]
  },
  {
   "cell_type": "markdown",
   "metadata": {},
   "source": [
    "Activation functions and Neural Networks hyperparameters"
   ]
  },
  {
   "cell_type": "code",
   "execution_count": 11,
   "metadata": {},
   "outputs": [
    {
     "name": "stdout",
     "output_type": "stream",
     "text": [
      "WARNING:tensorflow:From C:\\ProgramData\\Anaconda3\\envs\\myMLenv\\lib\\site-packages\\tensorflow_core\\python\\compat\\v2_compat.py:88: disable_resource_variables (from tensorflow.python.ops.variable_scope) is deprecated and will be removed in a future version.\n",
      "Instructions for updating:\n",
      "non-resource variables are not supported in the long term\n"
     ]
    }
   ],
   "source": [
    "#placeholders are not enabled in tf2.0\n",
    "#X = tf.placeholder(tf.float32, [None, new_dimension])\n",
    "#Y = tf.placeholder(tf.float32, [None, no_labels])\n",
    "\n",
    "import tensorflow.compat.v1 as tf\n",
    "tf.disable_v2_behavior()\n",
    "\n",
    "X = tf.compat.v1.placeholder(tf.float32, [None, new_dimension])\n",
    "Y = tf.compat.v1.placeholder(tf.float32, [None, no_labels])"
   ]
  },
  {
   "cell_type": "code",
   "execution_count": 12,
   "metadata": {},
   "outputs": [],
   "source": [
    "# create model architecture\n",
    "def multilayer_perceptron(x, no_classes, first_layer_neurons=256, second_layer_neurons=128):\n",
    "    # first layer\n",
    "    first_weight = tf.Variable(tf.random_uniform([new_dimension, first_layer_neurons]))\n",
    "    first_bias = tf.Variable(tf.zeros([first_layer_neurons]))\n",
    "    first_layer_output = tf.nn.relu(tf.add(tf.matmul(x, first_weight), first_bias))\n",
    "    # second layer\n",
    "    second_weight = tf.Variable(tf.random_uniform([first_layer_neurons,second_layer_neurons]))\n",
    "    second_bias = tf.Variable(tf.zeros([second_layer_neurons]))\n",
    "    second_layer_output = tf.nn.relu(tf.add(tf.matmul(first_layer_output, second_weight),\n",
    "    second_bias))\n",
    "    # output layer\n",
    "    final_weight = tf.Variable(tf.random_uniform([second_layer_neurons, no_classes]))\n",
    "    final_bias = tf.Variable(tf.zeros([no_classes]))\n",
    "    logits = tf.add(tf.matmul(second_layer_output, final_weight), final_bias)\n",
    "    return logits\n"
   ]
  },
  {
   "cell_type": "markdown",
   "metadata": {},
   "source": [
    "Call the multilayer perception function"
   ]
  },
  {
   "cell_type": "code",
   "execution_count": 13,
   "metadata": {},
   "outputs": [
    {
     "name": "stdout",
     "output_type": "stream",
     "text": [
      "WARNING:tensorflow:From <ipython-input-13-d34b61eebc17>:4: softmax_cross_entropy_with_logits (from tensorflow.python.ops.nn_ops) is deprecated and will be removed in a future version.\n",
      "Instructions for updating:\n",
      "\n",
      "Future major versions of TensorFlow will allow gradients to flow\n",
      "into the labels input on backprop by default.\n",
      "\n",
      "See `tf.nn.softmax_cross_entropy_with_logits_v2`.\n",
      "\n"
     ]
    }
   ],
   "source": [
    "logits = multilayer_perceptron(X, no_labels)\n",
    "learning_rate = 0.01\n",
    "#we define the loss and optimiser for the network\n",
    "loss_op = tf.reduce_mean(tf.nn.softmax_cross_entropy_with_logits(logits=logits, labels=Y))\n",
    "optimiser = tf.train.AdamOptimizer(learning_rate=learning_rate)\n",
    "train_op = optimiser.minimize(loss_op)"
   ]
  },
  {
   "cell_type": "code",
   "execution_count": 14,
   "metadata": {},
   "outputs": [],
   "source": [
    "#initialise the variables\n",
    "init = tf.global_variables_initializer()\n",
    "epochs = 20\n",
    "batch_size = 1000\n",
    "iteration = len(x_train) // batch_size"
   ]
  },
  {
   "cell_type": "code",
   "execution_count": 15,
   "metadata": {},
   "outputs": [
    {
     "name": "stdout",
     "output_type": "stream",
     "text": [
      "Epoch========19\n"
     ]
    }
   ],
   "source": [
    "#train model\n",
    "with tf.Session() as session:\n",
    "    session.run(init)\n",
    "    for epoch in range(epochs):\n",
    "        average_cost = 0\n",
    "        start, end = 0, batch_size\n",
    "    for i in range(iteration):\n",
    "        batch_x, batch_y = x_train[start: end], y_train[start: end]\n",
    "        _, loss = session.run([train_op, loss_op], feed_dict={X: batch_x, Y: batch_y})\n",
    "        start += batch_size\n",
    "        end += batch_size\n",
    "        #average loss\n",
    "        average_cost += loss/iteration\n",
    "    print(\"Epoch========{}\".format(epoch))"
   ]
  },
  {
   "cell_type": "markdown",
   "metadata": {},
   "source": [
    "Evaluate the Model"
   ]
  },
  {
   "cell_type": "code",
   "execution_count": 16,
   "metadata": {},
   "outputs": [
    {
     "ename": "ValueError",
     "evalue": "Cannot evaluate tensor using `eval()`: No default session is registered. Use `with sess.as_default()` or pass an explicit session to `eval(session=sess)`",
     "output_type": "error",
     "traceback": [
      "\u001b[1;31m---------------------------------------------------------------------------\u001b[0m",
      "\u001b[1;31mValueError\u001b[0m                                Traceback (most recent call last)",
      "\u001b[1;32m<ipython-input-16-26f90ec279ec>\u001b[0m in \u001b[0;36m<module>\u001b[1;34m\u001b[0m\n\u001b[0;32m      2\u001b[0m \u001b[0mground_truth\u001b[0m \u001b[1;33m=\u001b[0m \u001b[0mtf\u001b[0m\u001b[1;33m.\u001b[0m\u001b[0mequal\u001b[0m\u001b[1;33m(\u001b[0m\u001b[0mtf\u001b[0m\u001b[1;33m.\u001b[0m\u001b[0margmax\u001b[0m\u001b[1;33m(\u001b[0m\u001b[0mprediction\u001b[0m\u001b[1;33m,\u001b[0m \u001b[1;36m1\u001b[0m\u001b[1;33m)\u001b[0m\u001b[1;33m,\u001b[0m \u001b[0mtf\u001b[0m\u001b[1;33m.\u001b[0m\u001b[0margmax\u001b[0m\u001b[1;33m(\u001b[0m\u001b[0mY\u001b[0m\u001b[1;33m,\u001b[0m \u001b[1;36m1\u001b[0m\u001b[1;33m)\u001b[0m\u001b[1;33m)\u001b[0m\u001b[1;33m\u001b[0m\u001b[1;33m\u001b[0m\u001b[0m\n\u001b[0;32m      3\u001b[0m \u001b[0maccuracy\u001b[0m \u001b[1;33m=\u001b[0m \u001b[0mtf\u001b[0m\u001b[1;33m.\u001b[0m\u001b[0mreduce_mean\u001b[0m\u001b[1;33m(\u001b[0m\u001b[0mtf\u001b[0m\u001b[1;33m.\u001b[0m\u001b[0mcast\u001b[0m\u001b[1;33m(\u001b[0m\u001b[0mground_truth\u001b[0m\u001b[1;33m,\u001b[0m \u001b[1;34m\"float\"\u001b[0m\u001b[1;33m)\u001b[0m\u001b[1;33m)\u001b[0m\u001b[1;33m\u001b[0m\u001b[1;33m\u001b[0m\u001b[0m\n\u001b[1;32m----> 4\u001b[1;33m \u001b[0mprint\u001b[0m\u001b[1;33m(\u001b[0m\u001b[1;34m\"Accuracy: {}\"\u001b[0m\u001b[1;33m.\u001b[0m\u001b[0mformat\u001b[0m\u001b[1;33m(\u001b[0m\u001b[0maccuracy\u001b[0m\u001b[1;33m.\u001b[0m\u001b[0meval\u001b[0m\u001b[1;33m(\u001b[0m\u001b[1;33m{\u001b[0m\u001b[0mX\u001b[0m\u001b[1;33m:\u001b[0m \u001b[0mtest_images\u001b[0m\u001b[1;33m,\u001b[0m \u001b[0mY\u001b[0m\u001b[1;33m:\u001b[0m \u001b[0my_test\u001b[0m\u001b[1;33m}\u001b[0m\u001b[1;33m)\u001b[0m\u001b[1;33m)\u001b[0m\u001b[1;33m)\u001b[0m\u001b[1;33m\u001b[0m\u001b[1;33m\u001b[0m\u001b[0m\n\u001b[0m",
      "\u001b[1;32mC:\\ProgramData\\Anaconda3\\envs\\myMLenv\\lib\\site-packages\\tensorflow_core\\python\\framework\\ops.py\u001b[0m in \u001b[0;36meval\u001b[1;34m(self, feed_dict, session)\u001b[0m\n\u001b[0;32m    788\u001b[0m \u001b[1;33m\u001b[0m\u001b[0m\n\u001b[0;32m    789\u001b[0m     \"\"\"\n\u001b[1;32m--> 790\u001b[1;33m     \u001b[1;32mreturn\u001b[0m \u001b[0m_eval_using_default_session\u001b[0m\u001b[1;33m(\u001b[0m\u001b[0mself\u001b[0m\u001b[1;33m,\u001b[0m \u001b[0mfeed_dict\u001b[0m\u001b[1;33m,\u001b[0m \u001b[0mself\u001b[0m\u001b[1;33m.\u001b[0m\u001b[0mgraph\u001b[0m\u001b[1;33m,\u001b[0m \u001b[0msession\u001b[0m\u001b[1;33m)\u001b[0m\u001b[1;33m\u001b[0m\u001b[1;33m\u001b[0m\u001b[0m\n\u001b[0m\u001b[0;32m    791\u001b[0m \u001b[1;33m\u001b[0m\u001b[0m\n\u001b[0;32m    792\u001b[0m   \u001b[1;32mdef\u001b[0m \u001b[0mexperimental_ref\u001b[0m\u001b[1;33m(\u001b[0m\u001b[0mself\u001b[0m\u001b[1;33m)\u001b[0m\u001b[1;33m:\u001b[0m\u001b[1;33m\u001b[0m\u001b[1;33m\u001b[0m\u001b[0m\n",
      "\u001b[1;32mC:\\ProgramData\\Anaconda3\\envs\\myMLenv\\lib\\site-packages\\tensorflow_core\\python\\framework\\ops.py\u001b[0m in \u001b[0;36m_eval_using_default_session\u001b[1;34m(tensors, feed_dict, graph, session)\u001b[0m\n\u001b[0;32m   5296\u001b[0m     \u001b[0msession\u001b[0m \u001b[1;33m=\u001b[0m \u001b[0mget_default_session\u001b[0m\u001b[1;33m(\u001b[0m\u001b[1;33m)\u001b[0m\u001b[1;33m\u001b[0m\u001b[1;33m\u001b[0m\u001b[0m\n\u001b[0;32m   5297\u001b[0m     \u001b[1;32mif\u001b[0m \u001b[0msession\u001b[0m \u001b[1;32mis\u001b[0m \u001b[1;32mNone\u001b[0m\u001b[1;33m:\u001b[0m\u001b[1;33m\u001b[0m\u001b[1;33m\u001b[0m\u001b[0m\n\u001b[1;32m-> 5298\u001b[1;33m       raise ValueError(\"Cannot evaluate tensor using `eval()`: No default \"\n\u001b[0m\u001b[0;32m   5299\u001b[0m                        \u001b[1;34m\"session is registered. Use `with \"\u001b[0m\u001b[1;33m\u001b[0m\u001b[1;33m\u001b[0m\u001b[0m\n\u001b[0;32m   5300\u001b[0m                        \u001b[1;34m\"sess.as_default()` or pass an explicit session to \"\u001b[0m\u001b[1;33m\u001b[0m\u001b[1;33m\u001b[0m\u001b[0m\n",
      "\u001b[1;31mValueError\u001b[0m: Cannot evaluate tensor using `eval()`: No default session is registered. Use `with sess.as_default()` or pass an explicit session to `eval(session=sess)`"
     ]
    }
   ],
   "source": [
    "prediction = tf.nn.softmax(logits)\n",
    "ground_truth = tf.equal(tf.argmax(prediction, 1), tf.argmax(Y, 1))\n",
    "accuracy = tf.reduce_mean(tf.cast(ground_truth, \"float\"))\n",
    "print(\"Accuracy: {}\".format(accuracy.eval({X: test_images, Y: y_test})))"
   ]
  },
  {
   "cell_type": "markdown",
   "metadata": {},
   "source": [
    "### Optimisation  for training deep neural networks"
   ]
  },
  {
   "cell_type": "code",
   "execution_count": 17,
   "metadata": {},
   "outputs": [
    {
     "name": "stdout",
     "output_type": "stream",
     "text": [
      "WARNING:tensorflow:From C:\\ProgramData\\Anaconda3\\envs\\myMLenv\\lib\\site-packages\\tensorflow_core\\python\\ops\\resource_variable_ops.py:1635: calling BaseResourceVariable.__init__ (from tensorflow.python.ops.resource_variable_ops) with constraint is deprecated and will be removed in a future version.\n",
      "Instructions for updating:\n",
      "If using Keras pass *_constraint arguments to layers.\n"
     ]
    }
   ],
   "source": [
    "#Building a Sequencial Feed Forward Network in Keras\n",
    "\n",
    "from tensorflow.keras.layers import Dense\n",
    "from tensorflow.keras.models import Sequential\n",
    "\n",
    "model = Sequential()\n",
    "model.add(Dense(256, activation='relu', input_shape=(new_dimension,)))\n",
    "model.add(Dense(128, activation='relu'))\n",
    "model.add(Dense(no_labels, activation='softmax'))"
   ]
  },
  {
   "cell_type": "code",
   "execution_count": 20,
   "metadata": {},
   "outputs": [
    {
     "name": "stdout",
     "output_type": "stream",
     "text": [
      "Train on 50000 samples, validate on 10000 samples\n",
      "Epoch 1/20\n",
      "50000/50000 [==============================] - 83s 2ms/sample - loss: 0.2542 - acc: 0.9273 - val_loss: 0.1796 - val_acc: 0.9516\n",
      "Epoch 2/20\n",
      "50000/50000 [==============================] - 88s 2ms/sample - loss: 0.1762 - acc: 0.9579 - val_loss: 0.1854 - val_acc: 0.9495\n",
      "Epoch 3/20\n",
      "50000/50000 [==============================] - 98s 2ms/sample - loss: 0.1531 - acc: 0.9646 - val_loss: 0.1740 - val_acc: 0.9590\n",
      "Epoch 4/20\n",
      "50000/50000 [==============================] - 84s 2ms/sample - loss: 0.1330 - acc: 0.9694 - val_loss: 0.1949 - val_acc: 0.9657\n",
      "Epoch 5/20\n",
      "50000/50000 [==============================] - 87s 2ms/sample - loss: 0.1341 - acc: 0.9701 - val_loss: 0.1762 - val_acc: 0.9695\n",
      "Epoch 6/20\n",
      "50000/50000 [==============================] - 68s 1ms/sample - loss: 0.1280 - acc: 0.9736 - val_loss: 0.1702 - val_acc: 0.9664\n",
      "Epoch 7/20\n",
      "50000/50000 [==============================] - 68s 1ms/sample - loss: 0.1201 - acc: 0.9749 - val_loss: 0.2894 - val_acc: 0.9657\n",
      "Epoch 8/20\n",
      "50000/50000 [==============================] - 67s 1ms/sample - loss: 0.1240 - acc: 0.9752 - val_loss: 0.2712 - val_acc: 0.9672\n",
      "Epoch 9/20\n",
      "50000/50000 [==============================] - 79s 2ms/sample - loss: 0.1110 - acc: 0.9776 - val_loss: 0.2004 - val_acc: 0.9714\n",
      "Epoch 10/20\n",
      "50000/50000 [==============================] - 85s 2ms/sample - loss: 0.1149 - acc: 0.9781 - val_loss: 0.3211 - val_acc: 0.9680\n",
      "Epoch 11/20\n",
      "50000/50000 [==============================] - 83s 2ms/sample - loss: 0.1234 - acc: 0.9799 - val_loss: 0.2966 - val_acc: 0.9698\n",
      "Epoch 12/20\n",
      "50000/50000 [==============================] - 87s 2ms/sample - loss: 0.1121 - acc: 0.9809 - val_loss: 0.3738 - val_acc: 0.9656\n",
      "Epoch 13/20\n",
      "50000/50000 [==============================] - 88s 2ms/sample - loss: 0.1132 - acc: 0.9806 - val_loss: 0.3606 - val_acc: 0.9653\n",
      "Epoch 14/20\n",
      "50000/50000 [==============================] - 82s 2ms/sample - loss: 0.1037 - acc: 0.9811 - val_loss: 0.3377 - val_acc: 0.9695\n",
      "Epoch 15/20\n",
      "50000/50000 [==============================] - 69s 1ms/sample - loss: 0.1058 - acc: 0.9823 - val_loss: 0.4851 - val_acc: 0.9724\n",
      "Epoch 16/20\n",
      "50000/50000 [==============================] - 68s 1ms/sample - loss: 0.1107 - acc: 0.9819 - val_loss: 0.3249 - val_acc: 0.9722\n",
      "Epoch 17/20\n",
      "50000/50000 [==============================] - 68s 1ms/sample - loss: 0.1050 - acc: 0.9839 - val_loss: 0.4112 - val_acc: 0.9709\n",
      "Epoch 18/20\n",
      "50000/50000 [==============================] - 68s 1ms/sample - loss: 0.1033 - acc: 0.9838 - val_loss: 0.5980 - val_acc: 0.9685\n",
      "Epoch 19/20\n",
      "50000/50000 [==============================] - 75s 2ms/sample - loss: 0.1032 - acc: 0.9840 - val_loss: 0.4317 - val_acc: 0.9736\n",
      "Epoch 20/20\n",
      "50000/50000 [==============================] - 86s 2ms/sample - loss: 0.1145 - acc: 0.9848 - val_loss: 0.5018 - val_acc: 0.9681\n",
      "10000/10000 [==============================] - 0s 29us/sample - loss: 0.5658 - acc: 0.9694\n",
      "Test loss: 0.5657685354073133\n",
      "Test accuracy: 0.9693999886512756\n"
     ]
    }
   ],
   "source": [
    "model.compile(optimizer='adam', \n",
    "              loss=tf.keras.losses.categorical_crossentropy,\n",
    "              metrics=['accuracy'])\n",
    "\n",
    "history = model.fit(x_train, y_train, validation_data=(x_val, y_val),\n",
    "                    epochs=20, batch_size=1)\n",
    "\n",
    "test_loss, test_accuracy = model.evaluate(test_images, y_test)\n",
    "print('Test loss: {}'.format(test_loss))\n",
    "print('Test accuracy: {}'.format(test_accuracy))"
   ]
  },
  {
   "cell_type": "markdown",
   "metadata": {},
   "source": [
    "#### Visualize Result"
   ]
  },
  {
   "cell_type": "code",
   "execution_count": 21,
   "metadata": {},
   "outputs": [
    {
     "data": {
      "text/plain": [
       "Text(0.5, 1.0, 'Loss Curves - before regularisation')"
      ]
     },
     "execution_count": 21,
     "metadata": {},
     "output_type": "execute_result"
    },
    {
     "data": {
      "image/png": "[encoded data removed]",
      "text/plain": [
       "<Figure size 432x288 with 1 Axes>"
      ]
     },
     "metadata": {
      "needs_background": "light"
     },
     "output_type": "display_data"
    }
   ],
   "source": [
    "plt.figure()\n",
    "plt.plot(history.history['loss'], 'blue')\n",
    "plt.plot(history.history['val_loss'], 'red')\n",
    "plt.legend(['Training loss', 'Validation Loss'])\n",
    "plt.xlabel('Epochs')\n",
    "plt.ylabel('Loss')\n",
    "plt.title('Loss Curves - before regularisation')"
   ]
  },
  {
   "cell_type": "markdown",
   "metadata": {},
   "source": [
    "### Regularization"
   ]
  },
  {
   "cell_type": "markdown",
   "metadata": {},
   "source": [
    "Although the validation and training loss seem great, we can see that the validation #loss increases\n",
    "This identifies overfitting in our network. How do we proceed?"
   ]
  },
  {
   "cell_type": "code",
   "execution_count": 22,
   "metadata": {},
   "outputs": [],
   "source": [
    "from tensorflow.keras.layers import Dropout\n",
    "\n",
    "#Setup the Neural Net\n",
    "reg_model = Sequential()\n",
    "reg_model.add(Dense(256, activation='relu', input_shape=(new_dimension,)))\n",
    "reg_model.add(Dropout(0.4)) #Drop out at every layer\n",
    "\n",
    "reg_model.add(Dense(128, activation='relu'))\n",
    "reg_model.add(Dropout(0.4))\n",
    "reg_model.add(Dense(no_labels, activation='softmax'))\n"
   ]
  },
  {
   "cell_type": "code",
   "execution_count": 23,
   "metadata": {},
   "outputs": [
    {
     "name": "stdout",
     "output_type": "stream",
     "text": [
      "Train on 50000 samples, validate on 10000 samples\n",
      "Epoch 1/20\n",
      "50000/50000 [==============================] - 2s 33us/sample - loss: 0.9671 - acc: 0.6948 - val_loss: 0.2930 - val_acc: 0.9159\n",
      "Epoch 2/20\n",
      "50000/50000 [==============================] - 1s 28us/sample - loss: 0.3758 - acc: 0.8897 - val_loss: 0.2009 - val_acc: 0.9411\n",
      "Epoch 3/20\n",
      "50000/50000 [==============================] - 1s 24us/sample - loss: 0.2838 - acc: 0.9165 - val_loss: 0.1615 - val_acc: 0.9551\n",
      "Epoch 4/20\n",
      "50000/50000 [==============================] - 1s 22us/sample - loss: 0.2304 - acc: 0.9316 - val_loss: 0.1413 - val_acc: 0.9598\n",
      "Epoch 5/20\n",
      "50000/50000 [==============================] - 1s 21us/sample - loss: 0.1990 - acc: 0.9414 - val_loss: 0.1209 - val_acc: 0.9638\n",
      "Epoch 6/20\n",
      "50000/50000 [==============================] - 1s 21us/sample - loss: 0.1748 - acc: 0.9480 - val_loss: 0.1119 - val_acc: 0.9680\n",
      "Epoch 7/20\n",
      "50000/50000 [==============================] - 1s 20us/sample - loss: 0.1582 - acc: 0.9537 - val_loss: 0.1031 - val_acc: 0.9688\n",
      "Epoch 8/20\n",
      "50000/50000 [==============================] - 1s 21us/sample - loss: 0.1442 - acc: 0.9577 - val_loss: 0.0990 - val_acc: 0.9709\n",
      "Epoch 9/20\n",
      "50000/50000 [==============================] - 1s 21us/sample - loss: 0.1320 - acc: 0.9608 - val_loss: 0.0920 - val_acc: 0.9730\n",
      "Epoch 10/20\n",
      "50000/50000 [==============================] - 1s 21us/sample - loss: 0.1224 - acc: 0.9642 - val_loss: 0.0902 - val_acc: 0.9728\n",
      "Epoch 11/20\n",
      "50000/50000 [==============================] - 1s 21us/sample - loss: 0.1123 - acc: 0.9664 - val_loss: 0.0861 - val_acc: 0.9750\n",
      "Epoch 12/20\n",
      "50000/50000 [==============================] - 1s 20us/sample - loss: 0.1038 - acc: 0.9696 - val_loss: 0.0819 - val_acc: 0.9752\n",
      "Epoch 13/20\n",
      "50000/50000 [==============================] - 1s 20us/sample - loss: 0.0972 - acc: 0.9699 - val_loss: 0.0824 - val_acc: 0.9759\n",
      "Epoch 14/20\n",
      "50000/50000 [==============================] - 1s 22us/sample - loss: 0.0929 - acc: 0.9721 - val_loss: 0.0776 - val_acc: 0.9773\n",
      "Epoch 15/20\n",
      "50000/50000 [==============================] - 1s 20us/sample - loss: 0.0871 - acc: 0.9739 - val_loss: 0.0761 - val_acc: 0.9775\n",
      "Epoch 16/20\n",
      "50000/50000 [==============================] - 1s 21us/sample - loss: 0.0813 - acc: 0.9757 - val_loss: 0.0757 - val_acc: 0.9772\n",
      "Epoch 17/20\n",
      "50000/50000 [==============================] - 1s 21us/sample - loss: 0.0796 - acc: 0.9755 - val_loss: 0.0714 - val_acc: 0.9786\n",
      "Epoch 18/20\n",
      "50000/50000 [==============================] - 1s 22us/sample - loss: 0.0745 - acc: 0.9770 - val_loss: 0.0718 - val_acc: 0.9774\n",
      "Epoch 19/20\n",
      "50000/50000 [==============================] - 1s 24us/sample - loss: 0.0730 - acc: 0.9777 - val_loss: 0.0755 - val_acc: 0.9787\n",
      "Epoch 20/20\n",
      "50000/50000 [==============================] - 1s 21us/sample - loss: 0.0662 - acc: 0.9792 - val_loss: 0.0731 - val_acc: 0.9783\n",
      "10000/10000 [==============================] - 0s 35us/sample - loss: 0.0685 - acc: 0.9795\n",
      "Test loss: 0.06848652121113846\n",
      "Test accuracy: 0.9794999957084656\n"
     ]
    }
   ],
   "source": [
    "reg_model.compile(optimizer='adam',\n",
    "                  loss=tf.keras.losses.categorical_crossentropy,\n",
    "                  metrics=['accuracy'])\n",
    "\n",
    "reg_history = reg_model.fit(x_train, y_train, \n",
    "                            validation_data=(x_val, y_val),\n",
    "                            epochs=20, batch_size=1000) #increase the batch size\n",
    "\n",
    "test_loss, test_accuracy = reg_model.evaluate(test_images, y_test)\n",
    "print('Test loss: {}'.format(test_loss))\n",
    "print('Test accuracy: {}'.format(test_accuracy))"
   ]
  },
  {
   "cell_type": "markdown",
   "metadata": {},
   "source": [
    "#### Visualize result"
   ]
  },
  {
   "cell_type": "code",
   "execution_count": 24,
   "metadata": {},
   "outputs": [
    {
     "data": {
      "text/plain": [
       "Text(0.5, 1.0, 'Loss Curves - after regularisation')"
      ]
     },
     "execution_count": 24,
     "metadata": {},
     "output_type": "execute_result"
    },
    {
     "data": {
      "image/png": "[encoded data removed]",
      "text/plain": [
       "<Figure size 432x288 with 1 Axes>"
      ]
     },
     "metadata": {
      "needs_background": "light"
     },
     "output_type": "display_data"
    }
   ],
   "source": [
    "plt.figure()\n",
    "plt.plot(reg_history.history['loss'], 'blue')\n",
    "plt.plot(reg_history.history['val_loss'], 'red')\n",
    "plt.legend(['Training loss', 'Validation Loss'])\n",
    "plt.xlabel('Epochs')\n",
    "plt.ylabel('Loss')\n",
    "plt.title('Loss Curves - after regularisation')"
   ]
  },
  {
   "cell_type": "markdown",
   "metadata": {},
   "source": [
    "Now the Validation Loss reduces with the Training Loss. The Neural Network Model has been regularized."
   ]
  }
 ],
 "metadata": {
  "interpreter": {
   "hash": "d18c3d99e326808c0ea9776033fedd1fe4d7964bdcf2f58ebb2d89bb2832f5d0"
  },
  "kernelspec": {
   "display_name": "Python 3.7.9 ('myMLenv')",
   "language": "python",
   "name": "python3"
  },
  "language_info": {
   "codemirror_mode": {
    "name": "ipython",
    "version": 3
   },
   "file_extension": ".py",
   "mimetype": "text/x-python",
   "name": "python",
   "nbconvert_exporter": "python",
   "pygments_lexer": "ipython3",
   "version": "3.7.9"
  },
  "orig_nbformat": 4
 },
 "nbformat": 4,
 "nbformat_minor": 2
}
